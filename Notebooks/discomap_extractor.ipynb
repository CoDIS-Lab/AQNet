{
 "cells": [
  {
   "cell_type": "markdown",
   "id": "80e68231",
   "metadata": {},
   "source": [
    "# Script to extract call out pollution aggregate figures for monitoring stations based on the discomap page\n",
    "by Andrew Rowley"
   ]
  },
  {
   "cell_type": "code",
   "execution_count": 1,
   "id": "5b71af67",
   "metadata": {},
   "outputs": [],
   "source": [
    "import pandas as pd\n",
    "import numpy as np\n",
    "import os\n",
    "from tqdm import tqdm"
   ]
  },
  {
   "cell_type": "code",
   "execution_count": 2,
   "id": "2c17f2c0",
   "metadata": {},
   "outputs": [],
   "source": [
    "# read in timeseries links\n",
    "ts_links = pd.read_csv(r'C:/DissertationCode/NO2_Prediction/timeseries_data/timeseries_NO2.txt',header=None)\n",
    "# link output folder\n",
    "output_path = \"C:/DissertationCode/NO2_Prediction/timeseries_data/pollution_NO2.csv\""
   ]
  },
  {
   "cell_type": "code",
   "execution_count": 3,
   "id": "8a539148",
   "metadata": {
    "scrolled": true
   },
   "outputs": [
    {
     "name": "stdout",
     "output_type": "stream",
     "text": [
      "                                               Links\n",
      "0  https://ereporting.blob.core.windows.net/downl...\n",
      "1  https://ereporting.blob.core.windows.net/downl...\n",
      "2  https://ereporting.blob.core.windows.net/downl...\n",
      "3  https://ereporting.blob.core.windows.net/downl...\n",
      "4  https://ereporting.blob.core.windows.net/downl...\n"
     ]
    }
   ],
   "source": [
    "ts_links.columns = [\"Links\"]\n",
    "print(ts_links.head())"
   ]
  },
  {
   "cell_type": "code",
   "execution_count": 4,
   "id": "964f4ffd",
   "metadata": {},
   "outputs": [],
   "source": [
    "# example = pd.read_csv(ts_links[\"Links\"][617])\n",
    "# example.head()\n",
    "# ts_links[\"Links\"][617]"
   ]
  },
  {
   "cell_type": "code",
   "execution_count": 5,
   "id": "22002186",
   "metadata": {
    "scrolled": false
   },
   "outputs": [
    {
     "name": "stderr",
     "output_type": "stream",
     "text": [
      "100%|██████████| 11018/11018 [1:18:05<00:00,  2.35it/s]\n"
     ]
    }
   ],
   "source": [
    "pollution_dicts = []\n",
    "for link in tqdm(ts_links[\"Links\"]):\n",
    "    try:\n",
    "        #read in and extract airquality station\n",
    "        timeseries = pd.read_csv(link, encoding = \"ISO-8859-1\")\n",
    "        aq_station = timeseries[\"AirQualityStation\"][0]\n",
    "        # remove invalid entries\n",
    "        timeseries = timeseries[(timeseries[\"Validity\"]==1)&(timeseries[\"Verification\"]==1)]\n",
    "        # aggregate by pollutant form dict\n",
    "        average_pollutant = np.mean(timeseries[\"Concentration\"])\n",
    "        pollution_dicts.append({\"station\" : aq_station,\"poll\" : average_pollutant})\n",
    "    except Exception:\n",
    "        pass"
   ]
  },
  {
   "cell_type": "code",
   "execution_count": 6,
   "id": "b91c7fc1",
   "metadata": {},
   "outputs": [
    {
     "name": "stdout",
     "output_type": "stream",
     "text": [
      "       station       poll\n",
      "0  STA-AD0942A  26.551033\n",
      "1  STA-AL0203A  21.542964\n",
      "2  STA-AL0205A  13.488444\n",
      "3  STA-AL0206A  18.822223\n",
      "4  STA-AL0207A  23.004833\n",
      "           station       poll\n",
      "11011  STA-XK0008A  18.437177\n",
      "11012  STA-XK0009A  19.102971\n",
      "11013  STA-XK0010A   8.478350\n",
      "11014  STA-XK0011A  18.064364\n",
      "11015  STA-XK0012A  10.460738\n"
     ]
    }
   ],
   "source": [
    "df = pd.DataFrame.from_dict(pollution_dicts) \n",
    "print(df.head())\n",
    "print(df.tail())"
   ]
  },
  {
   "cell_type": "code",
   "execution_count": 7,
   "id": "a3e09577",
   "metadata": {},
   "outputs": [],
   "source": [
    "df.to_csv(output_path, index=False)"
   ]
  }
 ],
 "metadata": {
  "kernelspec": {
   "display_name": "Python 3 (ipykernel)",
   "language": "python",
   "name": "python3"
  },
  "language_info": {
   "codemirror_mode": {
    "name": "ipython",
    "version": 3
   },
   "file_extension": ".py",
   "mimetype": "text/x-python",
   "name": "python",
   "nbconvert_exporter": "python",
   "pygments_lexer": "ipython3",
   "version": "3.9.12"
  }
 },
 "nbformat": 4,
 "nbformat_minor": 5
}
